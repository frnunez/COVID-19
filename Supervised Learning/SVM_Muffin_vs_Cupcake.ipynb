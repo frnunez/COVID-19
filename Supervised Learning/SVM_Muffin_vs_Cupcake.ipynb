{
  "nbformat": 4,
  "nbformat_minor": 0,
  "metadata": {
    "colab": {
      "name": "SVM - Muffin vs Cupcake.ipynb",
      "provenance": [],
      "authorship_tag": "ABX9TyO3XlLtw7estpNii0ONx3B6",
      "include_colab_link": true
    },
    "kernelspec": {
      "name": "python3",
      "display_name": "Python 3"
    }
  },
  "cells": [
    {
      "cell_type": "markdown",
      "metadata": {
        "id": "view-in-github",
        "colab_type": "text"
      },
      "source": [
        "<a href=\"https://colab.research.google.com/github/frnunez/COVID-19/blob/master/Supervised%20Learning/SVM_Muffin_vs_Cupcake.ipynb\" target=\"_parent\"><img src=\"https://colab.research.google.com/assets/colab-badge.svg\" alt=\"Open In Colab\"/></a>"
      ]
    },
    {
      "cell_type": "markdown",
      "metadata": {
        "id": "5SL-UpUOgxPG"
      },
      "source": [
        "Machine Learning Tutorial Part - 1 | Machine Learning Tutorial For Beginners Part - 1 | Simplilearn\r\n",
        "\r\n",
        "https://www.youtube.com/watch?v=DWsJc1xnOZo&list=PLEiEAq2VkUULYYgj13YHUWmRePqiu8Ddy&index=6\r\n",
        "\r\n",
        "SVM - Muffin vs Cupcake"
      ]
    },
    {
      "cell_type": "code",
      "metadata": {
        "id": "xh99FpZXgwRa"
      },
      "source": [
        "#packages for data analysis\r\n",
        "import pandas as pd\r\n",
        "import numpy as np\r\n",
        "\r\n",
        "#SVM\r\n",
        "from sklearn import svm\r\n",
        "\r\n",
        "#packages for visualization\r\n",
        "import matplotlib.pyplot as plt\r\n",
        "import seaborn as sns; sns.set(font_scale=1.2)\r\n",
        "\r\n",
        "#To allow charts to appear in notebook\r\n",
        "%matplotlib inline \r\n",
        "\r\n",
        "#pickle package\r\n",
        "import pickle"
      ],
      "execution_count": 3,
      "outputs": []
    },
    {
      "cell_type": "code",
      "metadata": {
        "colab": {
          "base_uri": "https://localhost:8080/"
        },
        "id": "WxGramttiqjU",
        "outputId": "ff45dd53-4867-4df7-951d-fa42288d6e73"
      },
      "source": [
        "recipes = pd.read_csv('https://raw.githubusercontent.com/frnunez/Deep-Learning/main/Supervised%20Learning/cupcakescsmuffins.csv?token=AL3UVUHFCRZ7DAWSRGJZBWLAC523I')\r\n",
        "print(recipes.head())"
      ],
      "execution_count": 6,
      "outputs": [
        {
          "output_type": "stream",
          "text": [
            "     Type  Flour  Milk  Sugar  Butter  Egg  Baking Powder  Vanilla  Salt\n",
            "0  Muffin     55    28      3       7    5              2        0     0\n",
            "1  Muffin     47    24     12       6    9              1        0     0\n",
            "2  Muffin     47    23     18       6    4              1        0     0\n",
            "3  Muffin     45    11     17      17    8              1        0     0\n",
            "4  Muffin     50    25     12       6    5              2        1     0\n"
          ],
          "name": "stdout"
        }
      ]
    },
    {
      "cell_type": "code",
      "metadata": {
        "colab": {
          "base_uri": "https://localhost:8080/",
          "height": 441
        },
        "id": "KEql1Rltmog9",
        "outputId": "42103b76-6f5e-4b14-c932-107e115a9f50"
      },
      "source": [
        "#plot data Flour & Suagr\r\n",
        "sns.lmplot('Flour', 'Sugar', data=recipes, hue='Type',\r\n",
        "           palette='Set1', fit_reg=False, scatter_kws={\"s\":70});"
      ],
      "execution_count": 7,
      "outputs": [
        {
          "output_type": "stream",
          "text": [
            "/usr/local/lib/python3.6/dist-packages/seaborn/_decorators.py:43: FutureWarning: Pass the following variables as keyword args: x, y. From version 0.12, the only valid positional argument will be `data`, and passing other arguments without an explicit keyword will result in an error or misinterpretation.\n",
            "  FutureWarning\n"
          ],
          "name": "stderr"
        },
        {
          "output_type": "display_data",
          "data": {
            "image/png": "[encoded data removed]",
            "text/plain": [
              "<Figure size 464.77x360 with 1 Axes>"
            ]
          },
          "metadata": {
            "tags": [],
            "needs_background": "light"
          }
        }
      ]
    }
  ]
}